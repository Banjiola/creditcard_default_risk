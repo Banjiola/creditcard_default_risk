{
 "cells": [
  {
   "cell_type": "code",
   "execution_count": null,
   "id": "ca1b0595",
   "metadata": {},
   "outputs": [
    {
     "name": "stdout",
     "output_type": "stream",
     "text": [
      "['__builtins__', '__cached__', '__doc__', '__file__', '__loader__', '__name__', '__package__', '__spec__']\n"
     ]
    }
   ],
   "source": [
    "import data.sf\n",
    "print(dir(data.sf))  # Shows all available functions"
   ]
  },
  {
   "cell_type": "code",
   "execution_count": null,
   "id": "86ca27ab",
   "metadata": {},
   "outputs": [
    {
     "ename": "ImportError",
     "evalue": "cannot import name 'load_credit_data' from 'data.data_preprocessing' (c:\\Users\\banji\\creditCard_default_risk\\src\\data\\data_preprocessing.py)",
     "output_type": "error",
     "traceback": [
      "\u001b[31m---------------------------------------------------------------------------\u001b[39m",
      "\u001b[31mImportError\u001b[39m                               Traceback (most recent call last)",
      "\u001b[36mCell\u001b[39m\u001b[36m \u001b[39m\u001b[32mIn[25]\u001b[39m\u001b[32m, line 1\u001b[39m\n\u001b[32m----> \u001b[39m\u001b[32m1\u001b[39m \u001b[38;5;28;01mfrom\u001b[39;00m\u001b[38;5;250m \u001b[39m\u001b[34;01mdata\u001b[39;00m\u001b[34;01m.\u001b[39;00m\u001b[34;01mdata_preprocessing\u001b[39;00m\u001b[38;5;250m \u001b[39m\u001b[38;5;28;01mimport\u001b[39;00m load_credit_data\n",
      "\u001b[31mImportError\u001b[39m: cannot import name 'load_credit_data' from 'data.data_preprocessing' (c:\\Users\\banji\\creditCard_default_risk\\src\\data\\data_preprocessing.py)"
     ]
    }
   ],
   "source": [
    "from data.data_preprocessing import lo"
   ]
  },
  {
   "cell_type": "code",
   "execution_count": 12,
   "id": "4edab14e",
   "metadata": {},
   "outputs": [
    {
     "name": "stdout",
     "output_type": "stream",
     "text": [
      "   credit_amount  gender  education  marital_status  age  sept_delay  \\\n",
      "0          20000       2          2               1   24           2   \n",
      "1         120000       2          2               2   26          -1   \n",
      "2          90000       2          2               2   34           0   \n",
      "3          50000       2          2               1   37           0   \n",
      "4          50000       1          2               1   57          -1   \n",
      "\n",
      "   august_delay  july_delay  june_delay  may_delay  ...  june_bill  may_bill  \\\n",
      "0             2          -1          -1         -2  ...          0         0   \n",
      "1             2           0           0          0  ...       3272      3455   \n",
      "2             0           0           0          0  ...      14331     14948   \n",
      "3             0           0           0          0  ...      28314     28959   \n",
      "4             0          -1           0          0  ...      20940     19146   \n",
      "\n",
      "   april_bill  sept_payment  august_payment  july_payment  june_payment  \\\n",
      "0           0             0             689             0             0   \n",
      "1        3261             0            1000          1000          1000   \n",
      "2       15549          1518            1500          1000          1000   \n",
      "3       29547          2000            2019          1200          1100   \n",
      "4       19131          2000           36681         10000          9000   \n",
      "\n",
      "   may_payment  april_payment  Y  \n",
      "0            0              0  1  \n",
      "1            0           2000  1  \n",
      "2         1000           5000  0  \n",
      "3         1069           1000  0  \n",
      "4          689            679  0  \n",
      "\n",
      "[5 rows x 24 columns]\n"
     ]
    }
   ],
   "source": [
    "from data.data_loading import load_credit_data\n",
    "df =  load_credit_data()\n",
    "print(df.head())"
   ]
  },
  {
   "cell_type": "code",
   "execution_count": 5,
   "id": "596444e3",
   "metadata": {},
   "outputs": [
    {
     "name": "stdout",
     "output_type": "stream",
     "text": [
      "===== Null entries =====\n",
      "credit_amount     0\n",
      "gender            0\n",
      "education         0\n",
      "marital_status    0\n",
      "age               0\n",
      "sept_delay        0\n",
      "august_delay      0\n",
      "july_delay        0\n",
      "june_delay        0\n",
      "may_delay         0\n",
      "april_delay       0\n",
      "sept_bill         0\n",
      "august_bill       0\n",
      "july_bill         0\n",
      "june_bill         0\n",
      "may_bill          0\n",
      "april_bill        0\n",
      "sept_payment      0\n",
      "august_payment    0\n",
      "july_payment      0\n",
      "june_payment      0\n",
      "may_payment       0\n",
      "april_payment     0\n",
      "Y                 0\n",
      "dtype: int64\n",
      "\n",
      "===== Duplicate entries =====\n",
      "35\n"
     ]
    }
   ],
   "source": [
    "# Create copy for Exploratory Data Analysis\n",
    "df_eda = df.copy()\n",
    "df_eda.head()\n",
    "\n",
    "# Check for null and duplicate entries\n",
    "print(\"===== Null entries =====\")\n",
    "print(df_eda.isna().sum())\n",
    "print()\n",
    "print(\"===== Duplicate entries =====\")\n",
    "print(df_eda.duplicated().sum())\n"
   ]
  },
  {
   "cell_type": "code",
   "execution_count": null,
   "id": "f331e768",
   "metadata": {},
   "outputs": [
    {
     "ename": "ImportError",
     "evalue": "cannot import name 'split_columns' from 'data.data_preprocessing' (c:\\Users\\banji\\creditCard_default_risk\\src\\data\\data_preprocessing.py)",
     "output_type": "error",
     "traceback": [
      "\u001b[31m---------------------------------------------------------------------------\u001b[39m",
      "\u001b[31mImportError\u001b[39m                               Traceback (most recent call last)",
      "\u001b[36mCell\u001b[39m\u001b[36m \u001b[39m\u001b[32mIn[11]\u001b[39m\u001b[32m, line 1\u001b[39m\n\u001b[32m----> \u001b[39m\u001b[32m1\u001b[39m \u001b[38;5;28;01mfrom\u001b[39;00m\u001b[38;5;250m \u001b[39m\u001b[34;01mdata\u001b[39;00m\u001b[34;01m.\u001b[39;00m\u001b[34;01mdata_preprocessing\u001b[39;00m\u001b[38;5;250m \u001b[39m\u001b[38;5;28;01mimport\u001b[39;00m split_columns\n",
      "\u001b[31mImportError\u001b[39m: cannot import name 'split_columns' from 'data.data_preprocessing' (c:\\Users\\banji\\creditCard_default_risk\\src\\data\\data_preprocessing.py)"
     ]
    }
   ],
   "source": [
    "from data.sf import split_columns"
   ]
  },
  {
   "cell_type": "code",
   "execution_count": null,
   "id": "01f2609c",
   "metadata": {},
   "outputs": [
    {
     "ename": "ImportError",
     "evalue": "cannot import name 'split_columns' from 'data.data_preprocessing' (c:\\Users\\banji\\creditCard_default_risk\\src\\data\\data_preprocessing.py)",
     "output_type": "error",
     "traceback": [
      "\u001b[31m---------------------------------------------------------------------------\u001b[39m",
      "\u001b[31mImportError\u001b[39m                               Traceback (most recent call last)",
      "\u001b[36mCell\u001b[39m\u001b[36m \u001b[39m\u001b[32mIn[9]\u001b[39m\u001b[32m, line 1\u001b[39m\n\u001b[32m----> \u001b[39m\u001b[32m1\u001b[39m \u001b[38;5;28;01mfrom\u001b[39;00m\u001b[38;5;250m \u001b[39m\u001b[34;01mdata\u001b[39;00m\u001b[34;01m.\u001b[39;00m\u001b[34;01mdata_preprocessing\u001b[39;00m\u001b[38;5;250m \u001b[39m\u001b[38;5;28;01mimport\u001b[39;00m split_columns\n\u001b[32m      2\u001b[39m \u001b[38;5;66;03m#split_columns(df=df_eda)\u001b[39;00m\n",
      "\u001b[31mImportError\u001b[39m: cannot import name 'split_columns' from 'data.data_preprocessing' (c:\\Users\\banji\\creditCard_default_risk\\src\\data\\data_preprocessing.py)"
     ]
    }
   ],
   "source": [
    "from data.sf import split_columns\n",
    "#split_columns(df=df_eda)"
   ]
  },
  {
   "cell_type": "code",
   "execution_count": null,
   "id": "4d708fd7",
   "metadata": {},
   "outputs": [
    {
     "ename": "ImportError",
     "evalue": "cannot import name 'split_columns' from 'data.data_preprocessing' (c:\\Users\\banji\\creditCard_default_risk\\src\\data\\data_preprocessing.py)",
     "output_type": "error",
     "traceback": [
      "\u001b[31m---------------------------------------------------------------------------\u001b[39m",
      "\u001b[31mImportError\u001b[39m                               Traceback (most recent call last)",
      "\u001b[36mCell\u001b[39m\u001b[36m \u001b[39m\u001b[32mIn[7]\u001b[39m\u001b[32m, line 1\u001b[39m\n\u001b[32m----> \u001b[39m\u001b[32m1\u001b[39m \u001b[38;5;28;01mfrom\u001b[39;00m\u001b[38;5;250m \u001b[39m\u001b[34;01mdata\u001b[39;00m\u001b[34;01m.\u001b[39;00m\u001b[34;01mdata_preprocessing\u001b[39;00m\u001b[38;5;250m \u001b[39m\u001b[38;5;28;01mimport\u001b[39;00m split_columns\n\u001b[32m      2\u001b[39m split_columns(df=df_eda)\n\u001b[32m      3\u001b[39m \u001b[38;5;66;03m# Creation of categorical map for categorical data for easy understanding of the dataset\u001b[39;00m\n",
      "\u001b[31mImportError\u001b[39m: cannot import name 'split_columns' from 'data.data_preprocessing' (c:\\Users\\banji\\creditCard_default_risk\\src\\data\\data_preprocessing.py)"
     ]
    }
   ],
   "source": [
    "\n",
    "# Creation of categorical map for categorical data for easy understanding of the dataset\n",
    "gender_map = {\n",
    "    1: 'male',\n",
    "    2: 'female'\n",
    "}\n",
    "\n",
    "education_map = {\n",
    "    0: 'others',\n",
    "    1: 'graduate school',\n",
    "    2: 'university',\n",
    "    3: 'high school',\n",
    "    4: 'others',\n",
    "    5: 'others',\n",
    "    6: 'others'\n",
    "}\n",
    "\n",
    "marital_map = {\n",
    "    0: 'others',\n",
    "    1: 'married',\n",
    "    2: 'single',\n",
    "    3: 'divorce'\n",
    "               }\n",
    "\n",
    "target_map = {\n",
    "    0: 'non-default',\n",
    "    1: 'default'\n",
    "    }\n",
    "\n",
    "# Payment Delay Map\n",
    "delay_map = {\n",
    "  -2: 'no usage',\n",
    "  -1: 'paid full',\n",
    "   0: 'revolving',\n",
    "   1: '1m delay',\n",
    "   2: '2m delay',\n",
    "   3: '3m delay',\n",
    "   4: '4m delay',\n",
    "   5: '5m delay',\n",
    "   6: '6m delay',\n",
    "   7: '7m delay',\n",
    "   8: '8m delay',\n",
    "   9: '9m+ delay'\n",
    "   }\n",
    "\n",
    "# function to group ages into decades\n",
    "def convert_age(age):\n",
    "    \"\"\"\n",
    "    Converts age into decades for easy exploration.\n",
    "    \n",
    "    Parameters\n",
    "    ----------\n",
    "    age : int\n",
    "        Age of consumer.\n",
    "\n",
    "\n",
    "    Returns\n",
    "    -------\n",
    "    decade : str\n",
    "        Age converted into relevant decade.\n",
    "    \n",
    "    \"\"\"\n",
    "    \n",
    "    # divide age by 10 to determine the decade\n",
    "    age = age//10\n",
    "    decade = f'{age*10}s'\n",
    "    return decade\n",
    "print(\"===== Five rows for categorical data (before mapping) =====\")\n",
    "print(df_eda[categorical_data].head())\n",
    "\n",
    "# application of the categorical map to all the columns\n",
    "df_eda['gender'] = df_eda['gender'].map(gender_map )\n",
    "df_eda['education'] = df_eda['education'].map(education_map)\n",
    "df_eda['marital_status'] = df_eda['marital_status'].map(marital_map)\n",
    "df_eda['Y'] = df_eda['Y'].map(target_map)\n",
    "df_eda['age'] = df_eda['age'].map(convert_age)\n",
    "\n"
   ]
  },
  {
   "cell_type": "code",
   "execution_count": null,
   "id": "3f3a986d",
   "metadata": {},
   "outputs": [],
   "source": [
    "# plot to show credit column before and after transformation\n",
    "fig, ax = plt.subplots(1,2, figsize = (7,4.5))\n",
    "\n",
    "# First Plot\n",
    "df['credit_amount'].plot(kind = 'hist', bins = 30, ax= ax[0])\n",
    "ax[0].ticklabel_format(style='plain', axis='x')\n",
    "ax[0].set_title('Original Credit Amount')\n",
    "\n",
    "# second plot \n",
    "np.sqrt(df['credit_amount']+1).plot(kind = 'hist', bins = 30, ax = ax[1]) # looks a bit gaussian\n",
    "#np.log(X_train['credit_amount']).plot(kind = 'hist', bins = 30, ax = ax[1])\n",
    "ax[1].set_title('Transformed Credit Amount')\n",
    "plt.tight_layout()\n",
    "plt.savefig(fname = 'transf', \n",
    "        dpi=300, \n",
    "        bbox_inches='tight',    \n",
    "        pad_inches=0.1,         \n",
    "        facecolor='white')\n",
    "plt.show()\n",
    "delay_cols = [f'{month}_delay' for month in months]\n",
    "\n",
    "df['payment_consistency'] = df[['sept_payment', \n",
    "                                'august_payment', \n",
    "                                'july_payment', \n",
    "                                'june_payment', \n",
    "                                'may_payment', \n",
    "                                'april_payment']].std(axis=1)\n",
    "\n",
    "\n",
    "df['total_delays'] = df[delay_cols].sum(axis=1)"
   ]
  }
 ],
 "metadata": {
  "kernelspec": {
   "display_name": "venv",
   "language": "python",
   "name": "python3"
  },
  "language_info": {
   "codemirror_mode": {
    "name": "ipython",
    "version": 3
   },
   "file_extension": ".py",
   "mimetype": "text/x-python",
   "name": "python",
   "nbconvert_exporter": "python",
   "pygments_lexer": "ipython3",
   "version": "3.13.7"
  }
 },
 "nbformat": 4,
 "nbformat_minor": 5
}
